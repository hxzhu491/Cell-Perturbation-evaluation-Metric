{
 "cells": [
  {
   "cell_type": "code",
   "execution_count": 17,
   "id": "3c8e5e00",
   "metadata": {},
   "outputs": [],
   "source": [
    "import pandas as pd\n",
    "import numpy as np\n",
    "import sklearn\n",
    "import scipy\n",
    "\n",
    "import anndata as ad\n",
    "import scanpy as sc\n",
    "\n",
    "from dask import delayed\n",
    "from dask.distributed import Client, LocalCluster\n",
    "\n",
    "import os, binascii, gc\n",
    "\n",
    "from tqdm.auto import tqdm"
   ]
  },
  {
   "cell_type": "markdown",
   "id": "2c194c73",
   "metadata": {},
   "source": [
    "Loading expression data, converting to AnnData object"
   ]
  },
  {
   "cell_type": "code",
   "execution_count": 18,
   "id": "464c4a91",
   "metadata": {},
   "outputs": [
    {
     "name": "stderr",
     "output_type": "stream",
     "text": [
      "/Applications/anaconda3/lib/python3.11/site-packages/anndata/_core/anndata.py:402: FutureWarning: The dtype argument is deprecated and will be removed in late 2024.\n",
      "  warnings.warn(\n"
     ]
    },
    {
     "data": {
      "text/plain": [
       "AnnData object with n_obs × n_vars = 240090 × 21255\n",
       "    obs: 'library_id', 'plate_name', 'well', 'row', 'col', 'cell_id', 'donor_id', 'cell_type', 'sm_lincs_id', 'sm_name', 'SMILES', 'dose_uM', 'timepoint_hr', 'control'"
      ]
     },
     "execution_count": 18,
     "metadata": {},
     "output_type": "execute_result"
    }
   ],
   "source": [
    "data_dir = '../../datasets'\n",
    "adata_train_df = pd.read_parquet(os.path.join(data_dir, 'adata_train.parquet'))\n",
    "adata_obs_meta_df = pd.read_csv(os.path.join(data_dir, 'adata_obs_meta.csv'))\n",
    "adata_train_df['obs_id'] = adata_train_df['obs_id'].astype('category')\n",
    "adata_train_df['gene'] = adata_train_df['gene'].astype('category')\n",
    "\n",
    "obs_ids = adata_train_df['obs_id'].unique()\n",
    "obs_id_map = dict(zip(obs_ids, range(len(obs_ids))))\n",
    "\n",
    "genes = adata_train_df['gene'].unique()\n",
    "gene_map = dict(zip(genes, range(len(genes))))\n",
    "\n",
    "adata_train_df['obs_index'] = adata_train_df['obs_id'].map(obs_id_map)\n",
    "adata_train_df['gene_index'] = adata_train_df['gene'].map(gene_map)\n",
    "\n",
    "normalized_counts_values = adata_train_df['normalized_count'].to_numpy()\n",
    "counts_values = adata_train_df['count'].to_numpy()\n",
    "\n",
    "row_indices = adata_train_df['obs_index'].to_numpy()\n",
    "col_indices = adata_train_df['gene_index'].to_numpy()\n",
    "\n",
    "counts = scipy.sparse.csr_matrix((counts_values, (row_indices, col_indices)))\n",
    "\n",
    "obs_df = pd.Series(obs_ids, name='obs_id').to_frame()\n",
    "var_df = pd.Series(genes, name='gene').to_frame()\n",
    "\n",
    "obs_df = obs_df.set_index('obs_id')\n",
    "var_df = var_df.set_index('gene')\n",
    "\n",
    "obs_df.index = obs_df.index.astype('str')\n",
    "var_df.index = var_df.index.astype('str')\n",
    "\n",
    "counts_adata = ad.AnnData(\n",
    "    X=counts,\n",
    "    obs=obs_df,\n",
    "    var=var_df,\n",
    "    dtype=np.uint32,\n",
    ")\n",
    "\n",
    "index_ordering_before_join = counts_adata.obs.index\n",
    "counts_adata.obs = counts_adata.obs.join(adata_obs_meta_df.set_index('obs_id'))\n",
    "index_ordering_after_join = counts_adata.obs.index\n",
    "assert (index_ordering_before_join == index_ordering_after_join).all()\n",
    "\n",
    "counts_adata"
   ]
  },
  {
   "cell_type": "code",
   "execution_count": 19,
   "id": "fc3db921",
   "metadata": {},
   "outputs": [],
   "source": [
    "counts_adata.write_h5ad('../../datasets/singlecell_adata.h5ad');"
   ]
  },
  {
   "cell_type": "markdown",
   "id": "6d29a679",
   "metadata": {},
   "source": [
    "Pseudobulking counts by cell type"
   ]
  },
  {
   "cell_type": "code",
   "execution_count": 20,
   "id": "c20e5586",
   "metadata": {},
   "outputs": [],
   "source": [
    "from scipy import sparse\n",
    "\n",
    "def sum_by(adata: ad.AnnData, col: str) -> ad.AnnData:\n",
    "    \"\"\"\n",
    "    Adapted from this forum post: \n",
    "    https://discourse.scverse.org/t/group-sum-rows-based-on-jobs-feature/371/4\n",
    "    \"\"\"\n",
    "    \n",
    "    assert pd.api.types.is_categorical_dtype(adata.obs[col])\n",
    "\n",
    "    # sum `.X` entries for each unique value in `col`\n",
    "    cat = adata.obs[col].values\n",
    "    indicator = sparse.coo_matrix(\n",
    "        (\n",
    "            np.broadcast_to(True, adata.n_obs),\n",
    "            (cat.codes, np.arange(adata.n_obs))\n",
    "        ),\n",
    "        shape=(len(cat.categories), adata.n_obs),\n",
    "    )\n",
    "    sum_adata = ad.AnnData(\n",
    "        indicator @ adata.X,\n",
    "        var=adata.var,\n",
    "        obs=pd.DataFrame(index=cat.categories),\n",
    "        dtype=adata.X.dtype,\n",
    "    )\n",
    "    \n",
    "    # copy over `.obs` values that have a one-to-one-mapping with `.obs[col]`\n",
    "    obs_cols = adata.obs.columns\n",
    "    obs_cols = list(set(adata.obs.columns) - set([col]))\n",
    "    \n",
    "    one_to_one_mapped_obs_cols = []\n",
    "    nunique_in_col = adata.obs[col].nunique()\n",
    "    for other_col in obs_cols:\n",
    "        if len(adata.obs[[col, other_col]].drop_duplicates()) == nunique_in_col:\n",
    "            one_to_one_mapped_obs_cols.append(other_col)\n",
    "\n",
    "    joining_df = adata.obs[[col] + one_to_one_mapped_obs_cols].drop_duplicates().set_index(col)\n",
    "    assert (sum_adata.obs.index == sum_adata.obs.join(joining_df).index).all()\n",
    "    sum_adata.obs = sum_adata.obs.join(joining_df)\n",
    "    sum_adata.obs.index.name = col\n",
    "    sum_adata.obs = sum_adata.obs.reset_index()\n",
    "    sum_adata.obs.index = sum_adata.obs.index.astype('str')\n",
    "\n",
    "    return sum_adata"
   ]
  },
  {
   "cell_type": "code",
   "execution_count": 21,
   "id": "2f443b91",
   "metadata": {},
   "outputs": [
    {
     "name": "stderr",
     "output_type": "stream",
     "text": [
      "/Applications/anaconda3/lib/python3.11/site-packages/anndata/_core/anndata.py:402: FutureWarning: The dtype argument is deprecated and will be removed in late 2024.\n",
      "  warnings.warn(\n"
     ]
    }
   ],
   "source": [
    "counts_adata.obs['plate_well_cell_type'] = counts_adata.obs['plate_name'].astype('str') \\\n",
    "    + '_' + counts_adata.obs['well'].astype('str') \\\n",
    "    + '_' + counts_adata.obs['cell_type'].astype('str')\n",
    "counts_adata.obs['plate_well_cell_type'] = counts_adata.obs['plate_well_cell_type'].astype('category')\n",
    "\n",
    "bulk_adata = sum_by(counts_adata, 'plate_well_cell_type')\n",
    "bulk_adata.obs = bulk_adata.obs.drop(columns=['plate_well_cell_type'])\n",
    "bulk_adata.X = np.array(bulk_adata.X.todense())\n",
    "bulk_adata.X = bulk_adata.X.astype('float64')\n",
    "bulk_adata = bulk_adata.copy()"
   ]
  },
  {
   "cell_type": "code",
   "execution_count": 22,
   "id": "df6d3576",
   "metadata": {},
   "outputs": [],
   "source": [
    "bulk_adata.write_h5ad('../../datasets/raw_bulk_adata.h5ad');"
   ]
  },
  {
   "cell_type": "code",
   "execution_count": 23,
   "id": "c24ca4f1",
   "metadata": {},
   "outputs": [
    {
     "data": {
      "text/plain": [
       "AnnData object with n_obs × n_vars = 2558 × 21255\n",
       "    obs: 'row', 'cell_id', 'SMILES', 'cell_type', 'plate_name', 'sm_name', 'donor_id', 'sm_lincs_id', 'timepoint_hr', 'col', 'library_id', 'dose_uM', 'well', 'control'"
      ]
     },
     "execution_count": 23,
     "metadata": {},
     "output_type": "execute_result"
    }
   ],
   "source": [
    "bulk_adata = sc.read_h5ad('../../datasets/raw_bulk_adata.h5ad');\n",
    "bulk_adata"
   ]
  },
  {
   "cell_type": "markdown",
   "id": "3564ea9a",
   "metadata": {},
   "source": [
    "Loading pseudobulked counts from correctly filtered AnnData: the correctly filtered data contains 18211 genes which are used to generate the de_train.parquet."
   ]
  },
  {
   "cell_type": "code",
   "execution_count": 24,
   "id": "6c564a0a",
   "metadata": {},
   "outputs": [],
   "source": [
    "fixed_bulk_adata = sc.read_h5ad('../../datasets/train_or_control_bulk_by_cell_type_adata.h5ad')\n",
    "fixed_bulk_adata.X = fixed_bulk_adata.layers['counts']"
   ]
  },
  {
   "cell_type": "code",
   "execution_count": 25,
   "id": "d68d1a2d",
   "metadata": {},
   "outputs": [],
   "source": [
    "new_plate_names = bulk_adata.obs['plate_name'].sort_values().unique()\n",
    "original_plate_names = fixed_bulk_adata.obs['plate_name'].sort_values().unique()\n",
    "plate_name_map = dict(zip(original_plate_names, new_plate_names))\n",
    "\n",
    "fixed_bulk_adata.obs['plate_name'] = fixed_bulk_adata.obs['plate_name'].map(plate_name_map)"
   ]
  },
  {
   "cell_type": "code",
   "execution_count": 26,
   "id": "46dae9d6",
   "metadata": {},
   "outputs": [],
   "source": [
    "new_donor_ids = bulk_adata.obs['donor_id'].sort_values().unique()\n",
    "original_donor_ids = fixed_bulk_adata.obs['raw_cell_id'].sort_values().unique()\n",
    "donor_id_map = dict(zip(original_donor_ids, new_donor_ids))\n",
    "\n",
    "fixed_bulk_adata.obs['donor_id'] = fixed_bulk_adata.obs['raw_cell_id'].map(donor_id_map)"
   ]
  },
  {
   "cell_type": "code",
   "execution_count": 27,
   "id": "732a1981",
   "metadata": {},
   "outputs": [],
   "source": [
    "lincs_id_mapping_df = pd.read_parquet('../../datasets/lincs_id_compound_mapping.parquet')"
   ]
  },
  {
   "cell_type": "code",
   "execution_count": 28,
   "id": "8f2242a9",
   "metadata": {},
   "outputs": [],
   "source": [
    "compound_id_to_sm_lincs_id = lincs_id_mapping_df.set_index('compound_id')['sm_lincs_id'].to_dict()\n",
    "compound_id_to_sm_name = lincs_id_mapping_df.set_index('compound_id')['sm_name'].to_dict()\n",
    "compound_id_to_smiles = lincs_id_mapping_df.set_index('compound_id')['smiles'].to_dict()\n",
    "\n",
    "fixed_bulk_adata.obs['sm_lincs_id'] = \\\n",
    "    fixed_bulk_adata.obs['compound_id'].map(compound_id_to_sm_lincs_id)\n",
    "fixed_bulk_adata.obs['sm_name'] = \\\n",
    "    fixed_bulk_adata.obs['compound_id'].map(compound_id_to_sm_name)\n",
    "fixed_bulk_adata.obs['SMILES'] = \\\n",
    "    fixed_bulk_adata.obs['compound_id'].map(compound_id_to_smiles)"
   ]
  },
  {
   "cell_type": "code",
   "execution_count": 29,
   "id": "c7807382",
   "metadata": {},
   "outputs": [],
   "source": [
    "sorted_index = fixed_bulk_adata.obs.sort_values(['plate_name', 'sm_name', 'cell_type']).index\n",
    "fixed_bulk_adata = fixed_bulk_adata[sorted_index].copy()\n",
    "sorted_index = bulk_adata.obs.sort_values(['plate_name', 'sm_name', 'cell_type']).index\n",
    "bulk_adata = bulk_adata[sorted_index].copy()"
   ]
  },
  {
   "cell_type": "code",
   "execution_count": 30,
   "id": "f2edcd33",
   "metadata": {},
   "outputs": [
    {
     "data": {
      "text/plain": [
       "AnnData object with n_obs × n_vars = 2558 × 21255\n",
       "    obs: 'row', 'cell_id', 'SMILES', 'cell_type', 'plate_name', 'sm_name', 'donor_id', 'sm_lincs_id', 'timepoint_hr', 'col', 'library_id', 'dose_uM', 'well', 'control'"
      ]
     },
     "execution_count": 30,
     "metadata": {},
     "output_type": "execute_result"
    }
   ],
   "source": [
    "bulk_adata"
   ]
  },
  {
   "cell_type": "code",
   "execution_count": 31,
   "id": "c64d0712",
   "metadata": {},
   "outputs": [
    {
     "data": {
      "text/plain": [
       "AnnData object with n_obs × n_vars = 2558 × 18211\n",
       "    obs: 'bio_sample_id', 'cell_type', 'raw_cell_id', 'bio_exp_id', 'raw_plate_name', 'compound_id', 'cell_id', 'plate_name', 'dose_uM', 'pert', 'clt_batch_id', 'hashtag_id', 'library_id', 'compound_batch_id', 'cy_id', 'container_format', 'row', 'cy_batch_id', 'compound_name', 'timepoint_hr', 'clt_id', 'col', 'well', 'plate_id', 'readable_pert', 'split', 'donor_id', 'sm_lincs_id', 'sm_name', 'SMILES'\n",
       "    uns: 'log1p'\n",
       "    layers: 'counts'"
      ]
     },
     "execution_count": 31,
     "metadata": {},
     "output_type": "execute_result"
    }
   ],
   "source": [
    "fixed_bulk_adata"
   ]
  },
  {
   "cell_type": "code",
   "execution_count": 32,
   "id": "cba60678",
   "metadata": {},
   "outputs": [
    {
     "data": {
      "text/plain": [
       "False"
      ]
     },
     "execution_count": 32,
     "metadata": {},
     "output_type": "execute_result"
    }
   ],
   "source": [
    "np.allclose(fixed_bulk_adata.X, bulk_adata[:, fixed_bulk_adata.var.index].X)"
   ]
  },
  {
   "cell_type": "markdown",
   "id": "215bb1d2",
   "metadata": {},
   "source": [
    "Metadata mismatch"
   ]
  },
  {
   "cell_type": "code",
   "execution_count": 33,
   "id": "66d7e615",
   "metadata": {},
   "outputs": [],
   "source": [
    "clean_bulk_adata = bulk_adata[:, fixed_bulk_adata.var.index]"
   ]
  },
  {
   "cell_type": "code",
   "execution_count": 34,
   "id": "b8f5dc74",
   "metadata": {},
   "outputs": [
    {
     "data": {
      "text/plain": [
       "View of AnnData object with n_obs × n_vars = 2558 × 18211\n",
       "    obs: 'row', 'cell_id', 'SMILES', 'cell_type', 'plate_name', 'sm_name', 'donor_id', 'sm_lincs_id', 'timepoint_hr', 'col', 'library_id', 'dose_uM', 'well', 'control'"
      ]
     },
     "execution_count": 34,
     "metadata": {},
     "output_type": "execute_result"
    }
   ],
   "source": [
    "clean_bulk_adata"
   ]
  },
  {
   "cell_type": "code",
   "execution_count": 35,
   "id": "9907b859",
   "metadata": {},
   "outputs": [
    {
     "data": {
      "text/plain": [
       "(53, 6)"
      ]
     },
     "execution_count": 35,
     "metadata": {},
     "output_type": "execute_result"
    }
   ],
   "source": [
    "pd.merge(\n",
    "    clean_bulk_adata.obs[['cell_type', 'plate_name', 'donor_id', 'sm_lincs_id']].drop_duplicates().reset_index(),\n",
    "    fixed_bulk_adata.obs[['cell_type', 'plate_name', 'donor_id', 'sm_lincs_id']].drop_duplicates().reset_index(),\n",
    "    on=['cell_type', 'plate_name', 'donor_id', 'sm_lincs_id'],\n",
    "    how='inner'\n",
    ").shape"
   ]
  },
  {
   "cell_type": "code",
   "execution_count": 36,
   "id": "cc3127a4",
   "metadata": {},
   "outputs": [
    {
     "data": {
      "text/plain": [
       "(1861, 5)"
      ]
     },
     "execution_count": 36,
     "metadata": {},
     "output_type": "execute_result"
    }
   ],
   "source": [
    "fixed_bulk_adata.obs[['cell_type', 'plate_name', 'donor_id', 'sm_lincs_id']].drop_duplicates().reset_index().shape"
   ]
  },
  {
   "cell_type": "markdown",
   "id": "b66848b1",
   "metadata": {},
   "source": [
    "Debug mismatch"
   ]
  },
  {
   "cell_type": "code",
   "execution_count": 37,
   "id": "c763e1a0",
   "metadata": {},
   "outputs": [
    {
     "data": {
      "text/html": [
       "<div>\n",
       "<style scoped>\n",
       "    .dataframe tbody tr th:only-of-type {\n",
       "        vertical-align: middle;\n",
       "    }\n",
       "\n",
       "    .dataframe tbody tr th {\n",
       "        vertical-align: top;\n",
       "    }\n",
       "\n",
       "    .dataframe thead th {\n",
       "        text-align: right;\n",
       "    }\n",
       "</style>\n",
       "<table border=\"1\" class=\"dataframe\">\n",
       "  <thead>\n",
       "    <tr style=\"text-align: right;\">\n",
       "      <th>donor_id</th>\n",
       "      <th>donor_0</th>\n",
       "      <th>donor_1</th>\n",
       "      <th>donor_2</th>\n",
       "    </tr>\n",
       "    <tr>\n",
       "      <th>sm_lincs_id</th>\n",
       "      <th></th>\n",
       "      <th></th>\n",
       "      <th></th>\n",
       "    </tr>\n",
       "  </thead>\n",
       "  <tbody>\n",
       "    <tr>\n",
       "      <th>LSM-1005</th>\n",
       "      <td>plate_2</td>\n",
       "      <td>plate_3</td>\n",
       "      <td>plate_1</td>\n",
       "    </tr>\n",
       "    <tr>\n",
       "      <th>LSM-1023</th>\n",
       "      <td>plate_0</td>\n",
       "      <td>plate_5</td>\n",
       "      <td>plate_4</td>\n",
       "    </tr>\n",
       "    <tr>\n",
       "      <th>LSM-1025</th>\n",
       "      <td>plate_2</td>\n",
       "      <td>plate_3</td>\n",
       "      <td>NaN</td>\n",
       "    </tr>\n",
       "    <tr>\n",
       "      <th>LSM-45410</th>\n",
       "      <td>NaN</td>\n",
       "      <td>NaN</td>\n",
       "      <td>plate_4</td>\n",
       "    </tr>\n",
       "    <tr>\n",
       "      <th>LSM-45496</th>\n",
       "      <td>plate_2</td>\n",
       "      <td>NaN</td>\n",
       "      <td>plate_1</td>\n",
       "    </tr>\n",
       "    <tr>\n",
       "      <th>LSM-4944</th>\n",
       "      <td>plate_0</td>\n",
       "      <td>plate_5</td>\n",
       "      <td>NaN</td>\n",
       "    </tr>\n",
       "  </tbody>\n",
       "</table>\n",
       "</div>"
      ],
      "text/plain": [
       "donor_id     donor_0  donor_1  donor_2\n",
       "sm_lincs_id                           \n",
       "LSM-1005     plate_2  plate_3  plate_1\n",
       "LSM-1023     plate_0  plate_5  plate_4\n",
       "LSM-1025     plate_2  plate_3      NaN\n",
       "LSM-45410        NaN      NaN  plate_4\n",
       "LSM-45496    plate_2      NaN  plate_1\n",
       "LSM-4944     plate_0  plate_5      NaN"
      ]
     },
     "execution_count": 37,
     "metadata": {},
     "output_type": "execute_result"
    }
   ],
   "source": [
    "(\n",
    "    clean_bulk_adata.obs.query('cell_type==\"NK cells\" and col>3')[['cell_type', 'plate_name', 'donor_id', 'sm_lincs_id']]\n",
    "    .astype(str)\n",
    "    .pivot(index='sm_lincs_id', columns='donor_id', values='plate_name')\n",
    ").drop_duplicates()"
   ]
  },
  {
   "cell_type": "code",
   "execution_count": 38,
   "id": "087ef384",
   "metadata": {},
   "outputs": [
    {
     "data": {
      "text/html": [
       "<div>\n",
       "<style scoped>\n",
       "    .dataframe tbody tr th:only-of-type {\n",
       "        vertical-align: middle;\n",
       "    }\n",
       "\n",
       "    .dataframe tbody tr th {\n",
       "        vertical-align: top;\n",
       "    }\n",
       "\n",
       "    .dataframe thead th {\n",
       "        text-align: right;\n",
       "    }\n",
       "</style>\n",
       "<table border=\"1\" class=\"dataframe\">\n",
       "  <thead>\n",
       "    <tr style=\"text-align: right;\">\n",
       "      <th>donor_id</th>\n",
       "      <th>donor_0</th>\n",
       "      <th>donor_1</th>\n",
       "      <th>donor_2</th>\n",
       "    </tr>\n",
       "    <tr>\n",
       "      <th>sm_lincs_id</th>\n",
       "      <th></th>\n",
       "      <th></th>\n",
       "      <th></th>\n",
       "    </tr>\n",
       "  </thead>\n",
       "  <tbody>\n",
       "    <tr>\n",
       "      <th>LSM-1005</th>\n",
       "      <td>plate_0</td>\n",
       "      <td>plate_2</td>\n",
       "      <td>plate_4</td>\n",
       "    </tr>\n",
       "    <tr>\n",
       "      <th>LSM-1023</th>\n",
       "      <td>plate_1</td>\n",
       "      <td>plate_3</td>\n",
       "      <td>plate_5</td>\n",
       "    </tr>\n",
       "    <tr>\n",
       "      <th>LSM-1025</th>\n",
       "      <td>plate_0</td>\n",
       "      <td>NaN</td>\n",
       "      <td>plate_4</td>\n",
       "    </tr>\n",
       "    <tr>\n",
       "      <th>LSM-45410</th>\n",
       "      <td>NaN</td>\n",
       "      <td>plate_3</td>\n",
       "      <td>NaN</td>\n",
       "    </tr>\n",
       "    <tr>\n",
       "      <th>LSM-45496</th>\n",
       "      <td>plate_0</td>\n",
       "      <td>plate_2</td>\n",
       "      <td>NaN</td>\n",
       "    </tr>\n",
       "    <tr>\n",
       "      <th>LSM-4944</th>\n",
       "      <td>plate_1</td>\n",
       "      <td>NaN</td>\n",
       "      <td>plate_5</td>\n",
       "    </tr>\n",
       "  </tbody>\n",
       "</table>\n",
       "</div>"
      ],
      "text/plain": [
       "donor_id     donor_0  donor_1  donor_2\n",
       "sm_lincs_id                           \n",
       "LSM-1005     plate_0  plate_2  plate_4\n",
       "LSM-1023     plate_1  plate_3  plate_5\n",
       "LSM-1025     plate_0      NaN  plate_4\n",
       "LSM-45410        NaN  plate_3      NaN\n",
       "LSM-45496    plate_0  plate_2      NaN\n",
       "LSM-4944     plate_1      NaN  plate_5"
      ]
     },
     "execution_count": 38,
     "metadata": {},
     "output_type": "execute_result"
    }
   ],
   "source": [
    "(\n",
    "    fixed_bulk_adata.obs.query('cell_type==\"NK cells\" and col>3')[['cell_type', 'plate_name', 'donor_id', 'sm_lincs_id']]\n",
    "    .astype(str)\n",
    "    .pivot(index='sm_lincs_id', columns='donor_id', values='plate_name')\n",
    ").drop_duplicates()"
   ]
  },
  {
   "cell_type": "markdown",
   "id": "27cf273f",
   "metadata": {},
   "source": [
    "Fix mismatch"
   ]
  },
  {
   "cell_type": "code",
   "execution_count": 40,
   "id": "22111806",
   "metadata": {},
   "outputs": [],
   "source": [
    "donor_rename_dict = {\n",
    "    'donor_0':'donor_0',\n",
    "    'donor_1':'donor_2',\n",
    "    'donor_2':'donor_1',\n",
    "}\n",
    "\n",
    "plate_rename_dict = {\n",
    "    'plate_0' : 'plate_2',\n",
    "    'plate_1' : 'plate_0',\n",
    "    'plate_2' : 'plate_1',\n",
    "    'plate_3' : 'plate_4',\n",
    "    'plate_4' : 'plate_3',\n",
    "    'plate_5' : 'plate_5',\n",
    "}"
   ]
  },
  {
   "cell_type": "code",
   "execution_count": 41,
   "id": "d9c8c02e",
   "metadata": {},
   "outputs": [],
   "source": [
    "fixed_bulk_adata.obs['donor_id'] = fixed_bulk_adata.obs['donor_id'].map(donor_rename_dict)\n",
    "fixed_bulk_adata.obs['plate_name'] = fixed_bulk_adata.obs['plate_name'].map(plate_rename_dict)"
   ]
  },
  {
   "cell_type": "code",
   "execution_count": 46,
   "id": "92167962",
   "metadata": {},
   "outputs": [
    {
     "ename": "NameError",
     "evalue": "name 'fixed_bulk_adata' is not defined",
     "output_type": "error",
     "traceback": [
      "\u001b[0;31m---------------------------------------------------------------------------\u001b[0m",
      "\u001b[0;31mNameError\u001b[0m                                 Traceback (most recent call last)",
      "Cell \u001b[0;32mIn[46], line 1\u001b[0m\n\u001b[0;32m----> 1\u001b[0m bulk_adata \u001b[38;5;241m=\u001b[39m fixed_bulk_adata\u001b[38;5;241m.\u001b[39mcopy()\n",
      "\u001b[0;31mNameError\u001b[0m: name 'fixed_bulk_adata' is not defined"
     ]
    }
   ],
   "source": [
    "bulk_adata = fixed_bulk_adata.copy()"
   ]
  },
  {
   "cell_type": "code",
   "execution_count": 47,
   "id": "3ba14a34",
   "metadata": {},
   "outputs": [],
   "source": [
    "bulk_adata.write_h5ad('../../datasets/bulk_adata.h5ad');\n",
    "del fixed_bulk_adata; gc.collect();"
   ]
  },
  {
   "cell_type": "code",
   "execution_count": 48,
   "id": "28113288",
   "metadata": {},
   "outputs": [],
   "source": [
    "de_pert_cols = [\n",
    "    'sm_name',\n",
    "    'sm_lincs_id',\n",
    "    'SMILES',\n",
    "    'dose_uM',\n",
    "    'timepoint_hr',\n",
    "    'cell_type',\n",
    "]\n",
    "\n",
    "control_compound = 'Dimethyl Sulfoxide'"
   ]
  },
  {
   "cell_type": "code",
   "execution_count": 49,
   "id": "68bed326",
   "metadata": {},
   "outputs": [],
   "source": [
    "cell_rename_dict = {\n",
    "    'NK cells' : 'NK',\n",
    "    'T cells CD4+' : 'T4',\n",
    "    'T cells CD8+' : 'T8',\n",
    "    'T regulatory cells' : 'Treg',\n",
    "    'B cells' : 'B',\n",
    "    'Myeloid cells' : 'Myeloid',\n",
    "}"
   ]
  },
  {
   "cell_type": "code",
   "execution_count": 66,
   "id": "64063031",
   "metadata": {},
   "outputs": [],
   "source": [
    "bulk_adata.X_df =pd.DataFrame(bulk_adata.X)"
   ]
  },
  {
   "cell_type": "markdown",
   "id": "d4f8d359",
   "metadata": {},
   "source": [
    "Output bulked counts data in the format of csv"
   ]
  },
  {
   "cell_type": "code",
   "execution_count": 67,
   "id": "9d3e2d7f",
   "metadata": {},
   "outputs": [],
   "source": [
    "bulk_adata.obs.to_csv(\"../../datasets/bulk_adata_obs.csv\")\n",
    "bulk_adata.var.to_csv(\"../../datasets/bulk_adata_var.csv\")\n",
    "bulk_adata.X_df.to_csv(\"../../datasets/bulk_adata_X.csv\")"
   ]
  },
  {
   "cell_type": "markdown",
   "id": "8e6079a4",
   "metadata": {},
   "source": [
    "Prepare R code and input data for limma"
   ]
  },
  {
   "cell_type": "code",
   "execution_count": 69,
   "id": "ed5b382d",
   "metadata": {},
   "outputs": [],
   "source": [
    "compound_name_col = de_pert_cols[0]\n",
    "cell_types = bulk_adata.obs['cell_type'].unique()"
   ]
  },
  {
   "cell_type": "code",
   "execution_count": 70,
   "id": "533afda3",
   "metadata": {},
   "outputs": [
    {
     "data": {
      "application/vnd.jupyter.widget-view+json": {
       "model_id": "563b7527e51e4dd78311e9e6a8b5a118",
       "version_major": 2,
       "version_minor": 0
      },
      "text/plain": [
       "cell_type:   0%|          | 0/6 [00:00<?, ?it/s]"
      ]
     },
     "metadata": {},
     "output_type": "display_data"
    }
   ],
   "source": [
    "with open('r_code.sh', 'w') as f:\n",
    "\n",
    "    for cell_type in tqdm(cell_types, position=1, desc='cell_type'):\n",
    "        rename_cell_type = cell_rename_dict[cell_type]\n",
    "        cell_type_working_dir = 'cell_type_{}'.format(rename_cell_type)\n",
    "\n",
    "        os.makedirs(cell_type_working_dir, exist_ok=True)\n",
    "\n",
    "        cell_type_selection = bulk_adata.obs['cell_type'].eq(cell_type)\n",
    "        cell_type_bulk_adata = bulk_adata[cell_type_selection].copy()\n",
    "\n",
    "        rpert_mapping = cell_type_bulk_adata.obs[compound_name_col].drop_duplicates() \\\n",
    "        .reset_index(drop=True).reset_index() \\\n",
    "        .set_index(compound_name_col)['index'].to_dict()\n",
    "\n",
    "        cell_type_bulk_adata.obs['Rpert'] = cell_type_bulk_adata.obs.apply(\n",
    "            lambda row: rpert_mapping[row[compound_name_col]], \n",
    "            axis='columns',\n",
    "        ).astype('str')\n",
    "\n",
    "        compound_name_to_Rpert = cell_type_bulk_adata.obs.set_index(compound_name_col)['Rpert'].to_dict()\n",
    "        ref_pert = compound_name_to_Rpert[control_compound]\n",
    "\n",
    "        # save h5ad for each cell type\n",
    "        cell_type_bulk_adata.write_h5ad(os.path.join(cell_type_working_dir, 'input.h5ad'))\n",
    "\n",
    "        random_string = binascii.b2a_hex(os.urandom(15)).decode()\n",
    "\n",
    "        gc.collect();\n",
    "\n",
    "        \n",
    "        Rscript = '`which Rscript`'\n",
    "\n",
    "        # for limma fit\n",
    "        exec_path_fit = 'limma_fit.r'\n",
    "        design_fit = '~0+Rpert+donor_id+plate_name+row'\n",
    "\n",
    "        input_path = os.path.join(cell_type_working_dir, 'input.h5ad')\n",
    "        fit_output_path = os.path.join(cell_type_working_dir, 'limma.rds')\n",
    "        fit_plot_output_path = os.path.join(cell_type_working_dir, 'voom.pdf')\n",
    "\n",
    "\n",
    "        r_code_for_fit_in_bash = f'''\n",
    "echo '# limma fit for cell type {rename_cell_type}'\n",
    "{Rscript} \\\n",
    "{exec_path_fit} \\\n",
    "--input_h5ad \\\n",
    "{input_path} \\\n",
    "--design \\\n",
    "'{design_fit}' \\\n",
    "--fit_output_path \\\n",
    "{fit_output_path} \\\n",
    "--plot_output_path \\\n",
    "{fit_plot_output_path} \n",
    "'''\n",
    "\n",
    "        print (r_code_for_fit_in_bash, file=f)\n",
    "\n",
    "        # for limma contrast\n",
    "        exec_path_contrast = 'limma_contrast.r'\n",
    "\n",
    "        for pert in cell_type_bulk_adata.obs['Rpert'].unique():\n",
    "            if pert == ref_pert:\n",
    "                continue\n",
    "            else:\n",
    "                contrast_output_path = os.path.join(cell_type_working_dir, 'pert_{}_contrast_result.csv'.format(pert))\n",
    "                contrast = 'Rpert'+pert+'-Rpert'+ref_pert\n",
    "                r_code_for_contrast_in_bash = f'''\n",
    "echo '# limma contrast for cell type {rename_cell_type} with Rpert={pert}'\n",
    "{Rscript} \\\n",
    "{exec_path_contrast} \\\n",
    "--input_fit \\\n",
    "{fit_output_path} \\\n",
    "--contrast \\\n",
    "{contrast} \\\n",
    "--contrast_output_path \\\n",
    "{contrast_output_path}\n",
    "'''\n",
    "\n",
    "            print (r_code_for_contrast_in_bash, file=f)"
   ]
  },
  {
   "cell_type": "code",
   "execution_count": 74,
   "id": "4fd6599b",
   "metadata": {},
   "outputs": [
    {
     "name": "stdout",
     "output_type": "stream",
     "text": [
      "\r\n",
      "echo '# limma fit for cell type B'\r\n",
      "`which Rscript` limma_fit.r --input_h5ad cell_type_B/input.h5ad --design '~0+Rpert+donor_id+plate_name+row' --fit_output_path cell_type_B/limma.rds --plot_output_path cell_type_B/voom.pdf \r\n",
      "\r\n",
      "\r\n",
      "echo '# limma contrast for cell type B with Rpert=0'\r\n",
      "`which Rscript` limma_contrast.r --input_fit cell_type_B/limma.rds --contrast Rpert0-Rpert5 --contrast_output_path cell_type_B/pert_0_contrast_result.csv\r\n",
      "\r\n",
      "\r\n",
      "echo '# limma contrast for cell type B with Rpert=1'\r\n"
     ]
    }
   ],
   "source": [
    "! head r_code.sh"
   ]
  },
  {
   "cell_type": "code",
   "execution_count": null,
   "id": "a81a9ab5",
   "metadata": {},
   "outputs": [],
   "source": []
  }
 ],
 "metadata": {
  "kernelspec": {
   "display_name": "Python 3 (ipykernel)",
   "language": "python",
   "name": "python3"
  },
  "language_info": {
   "codemirror_mode": {
    "name": "ipython",
    "version": 3
   },
   "file_extension": ".py",
   "mimetype": "text/x-python",
   "name": "python",
   "nbconvert_exporter": "python",
   "pygments_lexer": "ipython3",
   "version": "3.11.8"
  }
 },
 "nbformat": 4,
 "nbformat_minor": 5
}
